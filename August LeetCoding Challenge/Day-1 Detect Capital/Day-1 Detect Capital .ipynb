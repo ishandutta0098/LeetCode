{
  "nbformat": 4,
  "nbformat_minor": 0,
  "metadata": {
    "colab": {
      "name": "LC August 01 Detect Capital.ipynb",
      "provenance": [],
      "collapsed_sections": []
    },
    "kernelspec": {
      "name": "python3",
      "display_name": "Python 3"
    }
  },
  "cells": [
    {
      "cell_type": "code",
      "metadata": {
        "id": "Yi5lgyUJmt-d",
        "colab_type": "code",
        "colab": {}
      },
      "source": [
        "    def detectCapitalUse(word):\n",
        "        \n",
        "        l = len(word)\n",
        "        test = False\n",
        "                              \n",
        "        #To check for strings with all upeercase or all lowercase letters \n",
        "        if word.isupper() or word.islower():\n",
        "            test = True\n",
        "        \n",
        "        #To check for strings with first letter uppercase and rest lowercase\n",
        "        else:\n",
        "                count = 1\n",
        "                \n",
        "                if(word[0].isupper()): #To check if first letter is uppercase\n",
        "                    for i in range(1,l): \n",
        "                        if word[i].islower():\n",
        "                            count+=1        #Counter to count total lowercase letters + first letter  \n",
        "                     \n",
        "                    if count == l: test=True        \n",
        "        return test"
      ],
      "execution_count": 16,
      "outputs": []
    },
    {
      "cell_type": "code",
      "metadata": {
        "id": "f1zZHM2Bneib",
        "colab_type": "code",
        "colab": {
          "base_uri": "https://localhost:8080/",
          "height": 34
        },
        "outputId": "769bae3c-f6cb-48e4-bd85-a0acd27bd80d"
      },
      "source": [
        "detectCapitalUse('Google')"
      ],
      "execution_count": 17,
      "outputs": [
        {
          "output_type": "execute_result",
          "data": {
            "text/plain": [
              "True"
            ]
          },
          "metadata": {
            "tags": []
          },
          "execution_count": 17
        }
      ]
    },
    {
      "cell_type": "code",
      "metadata": {
        "id": "vD1KQgS_ra4l",
        "colab_type": "code",
        "colab": {
          "base_uri": "https://localhost:8080/",
          "height": 34
        },
        "outputId": "1d211046-a97a-4c22-e9dd-844e52b1d5f5"
      },
      "source": [
        "detectCapitalUse('USA')"
      ],
      "execution_count": 18,
      "outputs": [
        {
          "output_type": "execute_result",
          "data": {
            "text/plain": [
              "True"
            ]
          },
          "metadata": {
            "tags": []
          },
          "execution_count": 18
        }
      ]
    },
    {
      "cell_type": "code",
      "metadata": {
        "id": "90Se_dSFrd6l",
        "colab_type": "code",
        "colab": {
          "base_uri": "https://localhost:8080/",
          "height": 34
        },
        "outputId": "455c26ff-97d1-4641-8ea8-9223bbfd7642"
      },
      "source": [
        "detectCapitalUse('leetcode')"
      ],
      "execution_count": 19,
      "outputs": [
        {
          "output_type": "execute_result",
          "data": {
            "text/plain": [
              "True"
            ]
          },
          "metadata": {
            "tags": []
          },
          "execution_count": 19
        }
      ]
    },
    {
      "cell_type": "code",
      "metadata": {
        "id": "_VzR0jPHrf5t",
        "colab_type": "code",
        "colab": {
          "base_uri": "https://localhost:8080/",
          "height": 34
        },
        "outputId": "c3c5e871-490c-4c98-9020-ef5b0c94ef14"
      },
      "source": [
        "detectCapitalUse('ABCd')"
      ],
      "execution_count": 20,
      "outputs": [
        {
          "output_type": "execute_result",
          "data": {
            "text/plain": [
              "False"
            ]
          },
          "metadata": {
            "tags": []
          },
          "execution_count": 20
        }
      ]
    }
  ]
}